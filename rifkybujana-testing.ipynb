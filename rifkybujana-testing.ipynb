{
 "cells": [
  {
   "cell_type": "code",
   "execution_count": 6,
   "id": "129a2f80",
   "metadata": {},
   "outputs": [],
   "source": [
    "import requests\n",
    "import tensorflow as tf\n",
    "import numpy as np\n",
    "import pandas as pd\n",
    "import json\n",
    "import base64"
   ]
  },
  {
   "cell_type": "code",
   "execution_count": 3,
   "id": "42443987",
   "metadata": {},
   "outputs": [
    {
     "name": "stdout",
     "output_type": "stream",
     "text": [
      "{'model_version_status': [{'state': 'AVAILABLE',\n",
      "                           'status': {'error_code': 'OK', 'error_message': ''},\n",
      "                           'version': '1668023088'}]}\n"
     ]
    }
   ],
   "source": [
    "import requests\n",
    "from pprint import PrettyPrinter\n",
    " \n",
    "pp = PrettyPrinter()\n",
    "pp.pprint(requests.get(\"https://imdb-prediction.herokuapp.com/v1/models/rifkybujana-pipeline\").json())"
   ]
  },
  {
   "cell_type": "code",
   "execution_count": 7,
   "id": "cae60b5d",
   "metadata": {},
   "outputs": [],
   "source": [
    "def prepare_json(text):\n",
    "    # Create an Example proto from your feature dict.\n",
    "    feature_spec = {\n",
    "        \"review\": tf.train.Feature(bytes_list=tf.train.BytesList(value=[bytes(text, \"utf-8\")]))\n",
    "    }\n",
    "    example = tf.train.Example(\n",
    "      features=tf.train.Features(feature=feature_spec)).SerializeToString()\n",
    "\n",
    "    result = [{'examples': {'b64': base64.b64encode(example).decode()}}]\n",
    "    \n",
    "    return json.dumps(\n",
    "        {\n",
    "            \"signature_name\":\"serving_default\",\n",
    "            \"instances\": result\n",
    "        }\n",
    "    )"
   ]
  },
  {
   "cell_type": "code",
   "execution_count": 12,
   "id": "7499411a",
   "metadata": {},
   "outputs": [],
   "source": [
    "sample = \"\"\"Probably my all-time favorite movie, a story of selflessness, sacrifice and dedication to a noble cause, but it's not preachy or boring. It just never gets old, despite my having seen it some 15 or more times in the last 25 years. Paul Lukas' performance brings tears to my eyes, and Bette Davis, in one of her very few truly sympathetic roles, is a delight. The kids are, as grandma says, more like \"dressed-up midgets\" than children, but that only makes them more fun to watch. And the mother's slow awakening to what's happening in the world and under her own roof is believable and startling. If I had a dozen thumbs, they'd all be \"up\" for this movie.\"\"\""
   ]
  },
  {
   "cell_type": "code",
   "execution_count": 14,
   "id": "aa4aa549",
   "metadata": {},
   "outputs": [
    {
     "name": "stdout",
     "output_type": "stream",
     "text": [
      "predictions: 0.0793694854\n"
     ]
    }
   ],
   "source": [
    "endpoint = \"http://imdb-prediction.herokuapp.com/v1/models/rifkybujana-pipeline:predict\"\n",
    "\n",
    "response = requests.post(endpoint, data=prepare_json(sample)).json()[\"predictions\"][0][0]\n",
    "print(f\"\"\"predictions: {response}\"\"\")"
   ]
  },
  {
   "cell_type": "code",
   "execution_count": null,
   "id": "6a30e4b4",
   "metadata": {},
   "outputs": [],
   "source": []
  }
 ],
 "metadata": {
  "kernelspec": {
   "display_name": "imdb_sentiment_classification-Xv-P-UTu",
   "language": "python",
   "name": "imdb_sentiment_classification-xv-p-utu"
  },
  "language_info": {
   "codemirror_mode": {
    "name": "ipython",
    "version": 3
   },
   "file_extension": ".py",
   "mimetype": "text/x-python",
   "name": "python",
   "nbconvert_exporter": "python",
   "pygments_lexer": "ipython3",
   "version": "3.8.10"
  }
 },
 "nbformat": 4,
 "nbformat_minor": 5
}
